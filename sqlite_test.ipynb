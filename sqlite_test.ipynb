{
 "cells": [
  {
   "cell_type": "code",
   "execution_count": 1,
   "metadata": {},
   "outputs": [],
   "source": [
    "import numpy as np\n",
    "import pandas as pd\n",
    "from sklearn import svm\n",
    "\n",
    "#visual for data\n",
    "import matplotlib.pyplot as plt\n"
   ]
  },
  {
   "cell_type": "code",
   "execution_count": 4,
   "metadata": {},
   "outputs": [],
   "source": [
    "rest_app_compound"
   ]
  },
  {
   "cell_type": "code",
   "execution_count": 6,
   "metadata": {},
   "outputs": [
    {
     "name": "stdout",
     "output_type": "stream",
     "text": [
      "2. Query all tasks\n",
      "(1,)\n",
      "(1,)\n"
     ]
    }
   ],
   "source": [
    "import sqlite3\n",
    "from sqlite3 import Error\n",
    " \n",
    "def create_connection(db_file):\n",
    "    \"\"\" create a database connection to the SQLite database\n",
    "        specified by the db_file\n",
    "    :param db_file: database file\n",
    "    :return: Connection object or None\n",
    "    \"\"\"\n",
    "    try:\n",
    "        conn = sqlite3.connect(db_file)\n",
    "        return conn\n",
    "    except Error as e:\n",
    "        print(e)\n",
    " \n",
    "    return None\n",
    "def select_all_tasks(conn):\n",
    "    \"\"\"\n",
    "    Query all rows in the tasks table\n",
    "    :param conn: the Connection object\n",
    "    :return:\n",
    "    \"\"\"\n",
    "    cur = conn.cursor()\n",
    "    cur.execute(\"SELECT author_id FROM rest_app_compound\")\n",
    " \n",
    "    rows = cur.fetchall()\n",
    " \n",
    "    for row in rows:\n",
    "        print(row)\n",
    "def main():\n",
    "    database = \"db.sqlite3\"\n",
    " \n",
    "    # create a database connection\n",
    "    conn = create_connection(database)\n",
    "    with conn:\n",
    "        print(\"2. Query all tasks\")\n",
    "        select_all_tasks(conn)\n",
    " \n",
    " \n",
    "if __name__ == '__main__':\n",
    "    main()\n"
   ]
  },
  {
   "cell_type": "code",
   "execution_count": null,
   "metadata": {},
   "outputs": [],
   "source": [
    "ALTER TABLE \"rest_app_compound\" RENAME TO \"rest_app_compound__old\";\n",
    "CREATE TABLE \"rest_app_compound\" (\"id\" integer NOT NULL PRIMARY KEY AUTOINCREMENT, \"date_posted\" datetime NOT NULL, \"formula_name\" varchar(100) NOT NULL, \"extensibility\" varchar(100) NOT NULL, \"stability\" varchar(100) NOT NULL, \"ductibility\" varchar(100) NOT NULL, \"toughness\" varchar(100) NOT NULL, \"strenght\" varchar(100) NOT NULL, \"pvc_k\" varchar(100) NOT NULL, \"stabilizer_type\" varchar(100) NOT NULL, \"stabilizer\" varchar(100) NOT NULL, \"chalk\" varchar(100) NOT NULL, \"impact_modifier\" varchar(100) NOT NULL, \"author_id\" integer NOT NULL REFERENCES \"auth_user\" (\"id\") DEFERRABLE INITIALLY DEFERRED);\n",
    "INSERT INTO \"rest_app_compound\" (\"id\", \"formula_name\", \"extensibility\", \"stability\", \"ductibility\", \"toughness\", \"strenght\", \"pvc_k\", \"stabilizer_type\", \"stabilizer\", \"chalk\", \"impact_modifier\", \"author_id\", \"date_posted\") SELECT \"id\", \"formula_name\", \"extensibility\", \"stability\", \"ductibility\", \"toughness\", \"strenght\", \"pvc_k\", \"stabilizer_type\", \"stabilizer\", \"chalk\", \"impact_modifier\", \"author_id\", \"date_posted\" FROM \"rest_app_compound__old\";\n",
    "DROP TABLE \"rest_app_compound__old\";\n",
    "CREATE INDEX \"rest_app_compound_author_id_35fb4d11\" ON \"rest_app_compound\" (\"author_id\");\n",
    "COMMIT;\n"
   ]
  }
 ],
 "metadata": {
  "kernelspec": {
   "display_name": "Python 3",
   "language": "python",
   "name": "python3"
  },
  "language_info": {
   "codemirror_mode": {
    "name": "ipython",
    "version": 3
   },
   "file_extension": ".py",
   "mimetype": "text/x-python",
   "name": "python",
   "nbconvert_exporter": "python",
   "pygments_lexer": "ipython3",
   "version": "3.6.5"
  }
 },
 "nbformat": 4,
 "nbformat_minor": 2
}
